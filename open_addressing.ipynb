{
 "cells": [
  {
   "cell_type": "code",
   "execution_count": 59,
   "metadata": {},
   "outputs": [
    {
     "data": {
      "text/plain": [
       "' The program is for techniques utilized in open addressing\\n     * linear probing\\n     * quadratic probing\\n     * double hashing\\n     '"
      ]
     },
     "execution_count": 59,
     "metadata": {},
     "output_type": "execute_result"
    }
   ],
   "source": [
    "\"\"\" The program is for techniques utilized in open addressing\n",
    "     * linear probing\n",
    "     * quadratic probing\n",
    "     * double hashing\n",
    "     \"\"\""
   ]
  },
  {
   "cell_type": "code",
   "execution_count": 60,
   "metadata": {},
   "outputs": [],
   "source": [
    "def populate(m, keys, probe):\n",
    "    table = [None]*m\n",
    "    for key in keys:\n",
    "        i=0\n",
    "        for _ in range(m):\n",
    "            pos = probe(key, i)\n",
    "            i += 1\n",
    "            \n",
    "            if table[pos] is None:\n",
    "                table[pos] = key\n",
    "                break\n",
    "        else:\n",
    "            raise RuntimeError(f\"Could not put element {key} in {table!r}\")\n",
    "    return table"
   ]
  },
  {
   "cell_type": "code",
   "execution_count": 61,
   "metadata": {},
   "outputs": [],
   "source": [
    "# linear probing where auxilary hash function h(k) = k\n",
    "def linear(m):\n",
    "    return lambda key, i : (key+i)%m"
   ]
  },
  {
   "cell_type": "code",
   "execution_count": 62,
   "metadata": {},
   "outputs": [],
   "source": [
    "#quadratic probing : same auxilary hash function , also c1 = 1 and c2 = 3\n",
    "def quadratic(m):\n",
    "    return lambda key, i : (key + 1*i + 3*i**2)%m"
   ]
  },
  {
   "cell_type": "code",
   "execution_count": 63,
   "metadata": {},
   "outputs": [],
   "source": [
    "#double hashing with primary hash function h(k) = k and secondary as h2(k) = 1 + (k)mod(m-1)\n",
    "def double(m):\n",
    "    return lambda key, i : (key + i*(1+key %(m-1)))%m"
   ]
  },
  {
   "cell_type": "code",
   "execution_count": 64,
   "metadata": {},
   "outputs": [
    {
     "name": "stdout",
     "output_type": "stream",
     "text": [
      "[22, 88, None, None, 4, 15, 28, 17, 59, 31, 10]\n",
      "[22, None, 88, 17, 4, None, 28, 59, 15, 31, 10]\n",
      "[22, None, 59, 17, 4, 15, 28, 88, None, 31, 10]\n"
     ]
    }
   ],
   "source": [
    "#Testing\n",
    "if __name__ == \"__main__\" :\n",
    "    m = 11\n",
    "    keys = [10, 22, 31, 4, 15, 28, 17, 88, 59]\n",
    "    linear = linear(m)\n",
    "    quadratic = quadratic(m)\n",
    "    double = double(m)\n",
    "    table1 = populate(11, keys, linear)\n",
    "    table2 = populate(11, keys, quadratic)\n",
    "    table3 = populate(11, keys, double)\n",
    "    print(table1,end=\"\\n\")\n",
    "    print(table2,end=\"\\n\")\n",
    "    print(table3,end=\"\\n\")"
   ]
  }
 ],
 "metadata": {
  "kernelspec": {
   "display_name": "Python 3",
   "language": "python",
   "name": "python3"
  },
  "language_info": {
   "codemirror_mode": {
    "name": "ipython",
    "version": 3
   },
   "file_extension": ".py",
   "mimetype": "text/x-python",
   "name": "python",
   "nbconvert_exporter": "python",
   "pygments_lexer": "ipython3",
   "version": "3.12.5"
  }
 },
 "nbformat": 4,
 "nbformat_minor": 2
}
